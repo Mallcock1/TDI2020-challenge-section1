{
 "cells": [
  {
   "cell_type": "markdown",
   "metadata": {
    "collapsed": true
   },
   "source": [
    "Food environment dataset - where are good counties to start a food business.\n"
   ]
  },
  {
   "cell_type": "markdown",
   "metadata": {},
   "source": [
    "Where is best to start a new restaurant business in the US?"
   ]
  },
  {
   "cell_type": "code",
   "execution_count": 19,
   "metadata": {},
   "outputs": [
    {
     "ename": "ModuleNotFoundError",
     "evalue": "No module named 'cartopy'",
     "output_type": "error",
     "traceback": [
      "\u001b[1;31m---------------------------------------------------------------------------\u001b[0m",
      "\u001b[1;31mModuleNotFoundError\u001b[0m                       Traceback (most recent call last)",
      "\u001b[1;32m<ipython-input-19-5cbac007837b>\u001b[0m in \u001b[0;36m<module>\u001b[1;34m()\u001b[0m\n\u001b[0;32m      1\u001b[0m \u001b[1;32mimport\u001b[0m \u001b[0mnumpy\u001b[0m \u001b[1;32mas\u001b[0m \u001b[0mnp\u001b[0m\u001b[1;33m\u001b[0m\u001b[0m\n\u001b[0;32m      2\u001b[0m \u001b[1;32mimport\u001b[0m \u001b[0mpandas\u001b[0m \u001b[1;32mas\u001b[0m \u001b[0mpd\u001b[0m\u001b[1;33m\u001b[0m\u001b[0m\n\u001b[1;32m----> 3\u001b[1;33m \u001b[1;32mimport\u001b[0m \u001b[0mcartopy\u001b[0m\u001b[1;33m.\u001b[0m\u001b[0mcrs\u001b[0m \u001b[1;32mas\u001b[0m \u001b[0mccrs\u001b[0m\u001b[1;33m\u001b[0m\u001b[0m\n\u001b[0m\u001b[0;32m      4\u001b[0m \u001b[1;32mimport\u001b[0m \u001b[0mcartopy\u001b[0m \u001b[1;32mas\u001b[0m \u001b[0mct\u001b[0m\u001b[1;33m\u001b[0m\u001b[0m\n",
      "\u001b[1;31mModuleNotFoundError\u001b[0m: No module named 'cartopy'"
     ]
    }
   ],
   "source": [
    "import numpy as np\n",
    "import pandas as pd\n",
    "import cartopy.crs as ccrs\n",
    "import cartopy.feature as cfeature\n",
    "import cartopy.io.shapereader as shpreader\n",
    "import matplotlib.pyplot as plt"
   ]
  },
  {
   "cell_type": "code",
   "execution_count": 74,
   "metadata": {
    "collapsed": true
   },
   "outputs": [],
   "source": [
    "# Read the relevant sheets of the Excel file as a dictionary of Pandas dateframes\n",
    "dict_FEA = pd.read_excel('Food_Environment_Atlas.xls', ['Supplemental Data - County', 'RESTAURANTS'])\n",
    "\n",
    "# Extract population and restaurant data as separate dataframes\n",
    "df_FEA_pop = dict_FEA['Supplemental Data - County']\n",
    "df_FEA_rest = dict_FEA['RESTAURANTS']"
   ]
  },
  {
   "cell_type": "markdown",
   "metadata": {},
   "source": [
    "Inspect column headings to understand data structure"
   ]
  },
  {
   "cell_type": "code",
   "execution_count": 75,
   "metadata": {},
   "outputs": [
    {
     "name": "stdout",
     "output_type": "stream",
     "text": [
      "Index(['FIPS ', 'State', 'County', '2010 Census Population',\n",
      "       'Population Estimate, 2011', 'Population Estimate, 2012',\n",
      "       'Population Estimate, 2013', 'Population Estimate, 2014',\n",
      "       'Population Estimate, 2015', 'Population Estimate, 2016'],\n",
      "      dtype='object')\n",
      "Index(['FIPS', 'State', 'County', 'FFR09', 'FFR14', 'PCH_FFR_09_14',\n",
      "       'FFRPTH09', 'FFRPTH14', 'PCH_FFRPTH_09_14', 'FSR09', 'FSR14',\n",
      "       'PCH_FSR_09_14', 'FSRPTH09', 'FSRPTH14', 'PCH_FSRPTH_09_14',\n",
      "       'PC_FFRSALES07', 'PC_FFRSALES12', 'PC_FSRSALES07', 'PC_FSRSALES12'],\n",
      "      dtype='object')\n"
     ]
    }
   ],
   "source": [
    "print(df_FEA_pop.columns)\n",
    "print(df_FEA_rest.columns)"
   ]
  },
  {
   "cell_type": "markdown",
   "metadata": {},
   "source": [
    "The first heading of the population dataframe has a space after 'FIPS'. Let's correct that by renaming the column."
   ]
  },
  {
   "cell_type": "code",
   "execution_count": 76,
   "metadata": {
    "collapsed": true
   },
   "outputs": [],
   "source": [
    "df_FEA_pop.rename(columns = {'FIPS ':'FIPS'}, inplace = True)"
   ]
  },
  {
   "cell_type": "markdown",
   "metadata": {},
   "source": [
    "I want to combine the population and the restaurant dataframes, but I first need to make sure that their shapes are compatible."
   ]
  },
  {
   "cell_type": "code",
   "execution_count": 78,
   "metadata": {},
   "outputs": [
    {
     "name": "stdout",
     "output_type": "stream",
     "text": [
      "(3142, 10)\n",
      "(3143, 19)\n"
     ]
    }
   ],
   "source": [
    "# Shape of the dataframe of the county population data\n",
    "print(df_FEA_pop.shape)\n",
    "\n",
    "# Shape of the dataframe of the restaurant data\n",
    "print(df_FEA_rest.shape)"
   ]
  },
  {
   "cell_type": "markdown",
   "metadata": {},
   "source": [
    "There is one more row in the restaurants data compared to the population data so the dataframes cannot yet be combined. The rows correspond to US counties. After a quick wikipedia search, there are actually 3142 counties in the US.\n",
    "\n",
    "One possibility is that there are "
   ]
  },
  {
   "cell_type": "code",
   "execution_count": 79,
   "metadata": {},
   "outputs": [
    {
     "name": "stdout",
     "output_type": "stream",
     "text": [
      "81       2158\n",
      "2412    46102\n",
      "Name: FIPS, dtype: int64\n",
      "92       2270\n",
      "2417    46113\n",
      "2916    51515\n",
      "Name: FIPS, dtype: int64\n"
     ]
    }
   ],
   "source": [
    "dict_FEA['RESTAURANTS']['FIPS'].duplicated()\n",
    "\n",
    "#dict_FEA['Supplemental Data - County']['FIPS '].duplicated().sum()\n",
    "\n",
    "df1 = df_FEA_pop['FIPS']\n",
    "df2 = df_FEA_rest['FIPS']\n",
    "\n",
    "print(df1[~df1.isin(df2)])\n",
    "print(df2[~df2.isin(df1)])"
   ]
  },
  {
   "cell_type": "code",
   "execution_count": 81,
   "metadata": {},
   "outputs": [
    {
     "name": "stdout",
     "output_type": "stream",
     "text": [
      "       FIPS          State               County\n",
      "80     2150         Alaska       Kodiak Island \n",
      "81     2158         Alaska            Kusilvak \n",
      "82     2164         Alaska  Lake and Peninsula \n",
      "2411  46101   South Dakota               Moody \n",
      "2412  46102   South Dakota       Oglala Lakota \n",
      "2413  46103   South Dakota          Pennington \n",
      "       FIPS State              County\n",
      "80     2150    AK       Kodiak Island\n",
      "81     2164    AK  Lake and Peninsula\n",
      "82     2170    AK   Matanuska-Susitna\n",
      "2411  46101    SD               Moody\n",
      "2412  46103    SD          Pennington\n",
      "2413  46105    SD             Perkins\n"
     ]
    }
   ],
   "source": [
    "print(df_FEA_pop.iloc[[80, 81, 82, 2411, 2412, 2413]][['FIPS', 'State', 'County']])\n",
    "print(df_FEA_rest.iloc[[80, 81, 82, 2411, 2412, 2413]][['FIPS', 'State', 'County']])"
   ]
  },
  {
   "cell_type": "code",
   "execution_count": 83,
   "metadata": {},
   "outputs": [
    {
     "name": "stdout",
     "output_type": "stream",
     "text": [
      "       FIPS          State                County\n",
      "91     2240         Alaska  Southeast Fairbanks \n",
      "92     2261         Alaska       Valdez-Cordova \n",
      "93     2275         Alaska             Wrangell \n",
      "2416  46109   South Dakota              Roberts \n",
      "2417  46111   South Dakota              Sanborn \n",
      "2418  46115   South Dakota                Spink \n",
      "2915  51510       Virginia       Alexandria city\n",
      "2916  51520       Virginia          Bristol city\n",
      "2917  51530       Virginia      Buena Vista city\n",
      "       FIPS State          County\n",
      "91     2261    AK  Valdez-Cordova\n",
      "92     2270    AK    Wade Hampton\n",
      "93     2275    AK        Wrangell\n",
      "2416  46111    SD         Sanborn\n",
      "2417  46113    SD         Shannon\n",
      "2418  46115    SD           Spink\n",
      "2915  51510    VA      Alexandria\n",
      "2916  51515    VA         Bedford\n",
      "2917  51520    VA         Bristol\n"
     ]
    }
   ],
   "source": [
    "print(df_FEA_pop.iloc[[91, 92, 93, 2416, 2417, 2418, 2915, 2916, 2917]][['FIPS', 'State', 'County']])\n",
    "print(df_FEA_rest.iloc[[91, 92, 93, 2416, 2417, 2418, 2915, 2916, 2917]][['FIPS', 'State', 'County']])"
   ]
  },
  {
   "cell_type": "code",
   "execution_count": 99,
   "metadata": {},
   "outputs": [
    {
     "name": "stdout",
     "output_type": "stream",
     "text": [
      "(3140, 10) (3140, 19)\n",
      "0\n"
     ]
    }
   ],
   "source": [
    "# Define new dataframes as subsets of population and restaurant dataframes but where rows which\n",
    "# are not contained in both are removed. Reindex so that indices are compatible.\n",
    "df_FEA_pop2 = df_FEA_pop[df_FEA_pop['FIPS'].isin(df_FEA_rest['FIPS'])].reset_index(drop=True)\n",
    "df_FEA_rest2 = df_FEA_rest[df_FEA_rest['FIPS'].isin(df_FEA_pop['FIPS'])].reset_index(drop=True)\n",
    "\n",
    "# Check that the number of rows match now.\n",
    "print(df_FEA_pop2.shape, df_FEA_rest2.shape)\n",
    "\n",
    "# Final check that the county identification numbers (FIPS) now match up (should be 0 if all match).\n",
    "print((df_FEA_pop2['FIPS'] != df_FEA_rest2['FIPS']).sum())"
   ]
  },
  {
   "cell_type": "markdown",
   "metadata": {},
   "source": [
    "Now we can combine the dataframes into one."
   ]
  },
  {
   "cell_type": "code",
   "execution_count": 106,
   "metadata": {},
   "outputs": [
    {
     "name": "stdout",
     "output_type": "stream",
     "text": [
      "Index(['FIPS', 'State', 'County', '2010 Census Population',\n",
      "       'Population Estimate, 2011', 'Population Estimate, 2012',\n",
      "       'Population Estimate, 2013', 'Population Estimate, 2014',\n",
      "       'Population Estimate, 2015', 'Population Estimate, 2016', 'FFR09',\n",
      "       'FFR14', 'PCH_FFR_09_14', 'FFRPTH09', 'FFRPTH14', 'PCH_FFRPTH_09_14',\n",
      "       'FSR09', 'FSR14', 'PCH_FSR_09_14', 'FSRPTH09', 'FSRPTH14',\n",
      "       'PCH_FSRPTH_09_14', 'PC_FFRSALES07', 'PC_FFRSALES12', 'PC_FSRSALES07',\n",
      "       'PC_FSRSALES12'],\n",
      "      dtype='object')\n"
     ]
    }
   ],
   "source": [
    "# Combine dataframes into one, omitting the FIPS, state, and county columns as they are already in the\n",
    "# population dateframe.\n",
    "df_FEA = pd.concat([df_FEA_pop2, df_FEA_rest2.drop(['FIPS', 'State', 'County'], axis=1)], axis=1)"
   ]
  },
  {
   "cell_type": "code",
   "execution_count": null,
   "metadata": {
    "collapsed": true
   },
   "outputs": [],
   "source": [
    "# Plot map\n",
    "\n",
    "fig = plt.figure(figsize=[19,10])\n",
    "\n",
    "# choose map projection\n",
    "ax = plt.axes(projection=ccrs.Robinson())\n",
    "\n",
    "# Add map features\n",
    "ax.coastlines()\n",
    "ax.add_feature(ct.feature.OCEAN)\n",
    "ax.add_feature(ct.feature.BORDERS)\n",
    "#ax.add_feature(ct.feature.LAND, edgecolor='black')\n",
    "#ax.add_feature(ct.feature.LAKES, edgecolor='black')\n",
    "#ax.add_feature(ct.feature.RIVERS)\n",
    "\n",
    "date = col_names[-1] # -1 for latest, 4 for earliest\n",
    "\n",
    "# size of points\n",
    "abs_size = 50000\n",
    "def size_func(data):\n",
    "    return abs_size * data/con_df_ungrouped[col_names[-1]].max()\n",
    "\n",
    "sizes = size_func(con_df_ungrouped[date])\n",
    "scat = plt.scatter(con_df_ungrouped['Long'], con_df_ungrouped['Lat'],\n",
    "         color='r', s=sizes, marker='o', alpha=0.5,\n",
    "         transform=ccrs.Geodetic())\n",
    "scale_size = abs_size*10000/con_df_ungrouped[col_names[-1]].max()\n",
    "plt.scatter([-150],[-30], color='r', s=scale_size, transform=ccrs.Geodetic())\n",
    "plt.text(-150,-30, '10,000 people', transform=ccrs.Geodetic(), ha='center',\n",
    "         fontsize=20)\n",
    "date_text = plt.text(-150,0, 'Date: ' + date, transform=ccrs.Geodetic(),\n",
    "                     ha='center', fontsize=20)\n",
    "plt.title('Global Covid-19 cases', fontsize=30)\n",
    "ax.set_global() # shows the whole map"
   ]
  },
  {
   "cell_type": "code",
   "execution_count": 57,
   "metadata": {},
   "outputs": [
    {
     "ename": "NameError",
     "evalue": "name 'shpreader' is not defined",
     "output_type": "error",
     "traceback": [
      "\u001b[1;31m---------------------------------------------------------------------------\u001b[0m",
      "\u001b[1;31mNameError\u001b[0m                                 Traceback (most recent call last)",
      "\u001b[1;32m<ipython-input-57-12972654d8ff>\u001b[0m in \u001b[0;36m<module>\u001b[1;34m()\u001b[0m\n\u001b[0;32m      1\u001b[0m \u001b[1;31m# Download counties at https://www.usgs.gov/core-science-systems/national-geospatial-program/small-scale-data?openChapters=chpbound#chpbound\u001b[0m\u001b[1;33m\u001b[0m\u001b[1;33m\u001b[0m\u001b[0m\n\u001b[0;32m      2\u001b[0m \u001b[1;33m\u001b[0m\u001b[0m\n\u001b[1;32m----> 3\u001b[1;33m \u001b[0mreader\u001b[0m \u001b[1;33m=\u001b[0m \u001b[0mshpreader\u001b[0m\u001b[1;33m.\u001b[0m\u001b[0mReader\u001b[0m\u001b[1;33m(\u001b[0m\u001b[1;34m'countyl010g.shp'\u001b[0m\u001b[1;33m)\u001b[0m\u001b[1;33m\u001b[0m\u001b[0m\n\u001b[0m\u001b[0;32m      4\u001b[0m \u001b[1;33m\u001b[0m\u001b[0m\n\u001b[0;32m      5\u001b[0m \u001b[0mcounties\u001b[0m \u001b[1;33m=\u001b[0m \u001b[0mlist\u001b[0m\u001b[1;33m(\u001b[0m\u001b[0mreader\u001b[0m\u001b[1;33m.\u001b[0m\u001b[0mgeometries\u001b[0m\u001b[1;33m(\u001b[0m\u001b[1;33m)\u001b[0m\u001b[1;33m)\u001b[0m\u001b[1;33m\u001b[0m\u001b[0m\n",
      "\u001b[1;31mNameError\u001b[0m: name 'shpreader' is not defined"
     ]
    }
   ],
   "source": [
    "# Download counties at https://www.usgs.gov/core-science-systems/national-geospatial-program/small-scale-data?openChapters=chpbound#chpbound\n",
    "\n",
    "reader = shpreader.Reader('countyl010g.shp')\n",
    "\n",
    "counties = list(reader.geometries())\n",
    "\n",
    "COUNTIES = cfeature.ShapelyFeature(counties, ccrs.PlateCarree())\n",
    "\n",
    "plt.figure(figsize=(10, 6))\n",
    "ax = plt.axes(projection=ccrs.PlateCarree())\n",
    "\n",
    "ax.add_feature(cfeature.LAND.with_scale('50m'))\n",
    "ax.add_feature(cfeature.OCEAN.with_scale('50m'))\n",
    "ax.add_feature(cfeature.LAKES.with_scale('50m'))\n",
    "ax.add_feature(COUNTIES, facecolor='none', edgecolor='gray')\n",
    "\n",
    "ax.coastlines('50m')\n",
    "\n",
    "ax.set_extent([-83, -65, 33, 44])\n",
    "plt.show()"
   ]
  },
  {
   "cell_type": "code",
   "execution_count": null,
   "metadata": {
    "collapsed": true
   },
   "outputs": [],
   "source": []
  }
 ],
 "metadata": {
  "kernelspec": {
   "display_name": "Python 3",
   "language": "python",
   "name": "python3"
  },
  "language_info": {
   "codemirror_mode": {
    "name": "ipython",
    "version": 3
   },
   "file_extension": ".py",
   "mimetype": "text/x-python",
   "name": "python",
   "nbconvert_exporter": "python",
   "pygments_lexer": "ipython3",
   "version": "3.6.3"
  }
 },
 "nbformat": 4,
 "nbformat_minor": 2
}
